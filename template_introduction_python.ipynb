{
 "cells": [
  {
   "cell_type": "markdown",
   "id": "39bf7b14",
   "metadata": {},
   "source": [
    "## Buatlah sebuah program yang:\n",
    "\n",
    "   1. Meminta input dari pengguna:\n",
    "\n",
    "       - Nama mahasiswa\n",
    "\n",
    "       - NIM mahasiswa\n",
    "\n",
    "       - Nilai ujian (dalam angka, 0–100)\n",
    "\n",
    "   2. Cek dan tampilkan tipe data dari setiap input.\n",
    "\n",
    "   3. Gunakan if-elif-else untuk menentukan kategori nilai, dengan kriteria sebagai berikut:\n",
    "   \n",
    "```\n",
    "Nilai | Kategori\n",
    "85 - 100 | A (Sangat Baik)\n",
    "75 - 84 | B (Baik)\n",
    "60 - 74 | C (Cukup)\n",
    "40 - 59 | D (Kurang)\n",
    "< 40 | E (Sangat Kurang)\n",
    "```\n",
    "\n",
    "```\n",
    "==== Ekspektasi Output Jawaban : =====\n",
    "Masukkan nama mahasiswa: Sarah\n",
    "Masukkan NIM: 12345678\n",
    "Masukkan nilai ujian (0-100): 81\n",
    "\n",
    "Nama: Sarah (type: <class 'str'>)\n",
    "NIM: 12345678 (type: <class 'str'>)\n",
    "Nilai: 81 (type: <class 'int'>)\n",
    "\n",
    "Hasil Evaluasi:\n",
    "Mahasiswa: Sarah (NIM: 12345678)\n",
    "Nilai Ujian: 81\n",
    "Kategori Nilai: B (Baik)\n",
    "```"
   ]
  },
  {
   "cell_type": "markdown",
   "id": "e39f3e9a",
   "metadata": {},
   "source": [
    "## Versi jika value langsung dimasukkan ke dalam variabel\n",
    "### No.1"
   ]
  },
  {
   "cell_type": "code",
   "execution_count": 1,
   "id": "e2ab644c",
   "metadata": {},
   "outputs": [],
   "source": [
    "nama_mahasiswa = \"Sarah\"\n",
    "nim_mahasiswa = 12345678\n",
    "nilai_ujian = 81"
   ]
  },
  {
   "cell_type": "code",
   "execution_count": 4,
   "id": "7b9a28b5",
   "metadata": {},
   "outputs": [
    {
     "name": "stdout",
     "output_type": "stream",
     "text": [
      "Masukkan nama mahasiswa:  Sarah\n",
      "Masukkan NIM:  12345678\n",
      "Masukkan nilai ujian (0-100):  81\n"
     ]
    }
   ],
   "source": [
    "print(\"Masukkan nama mahasiswa: \", nama_mahasiswa)\n",
    "print(\"Masukkan NIM: \", nim_mahasiswa)\n",
    "print(\"Masukkan nilai ujian (0-100): \", nilai_ujian)"
   ]
  },
  {
   "cell_type": "markdown",
   "id": "d4cd5763",
   "metadata": {},
   "source": [
    "### No. 2"
   ]
  },
  {
   "cell_type": "code",
   "execution_count": 17,
   "id": "4202dad3",
   "metadata": {},
   "outputs": [
    {
     "name": "stdout",
     "output_type": "stream",
     "text": [
      "Nama:  Sarah (type: <class 'str'>)\n",
      "NIM:  12345678 (type: <class 'int'>)\n",
      "Nilai:  81 (type: <class 'int'>)\n"
     ]
    }
   ],
   "source": [
    "print(\"Nama: \", nama_mahasiswa, f\"(type: {type(nama_mahasiswa)})\")\n",
    "print(\"NIM: \", nim_mahasiswa, f\"(type: {type(nim_mahasiswa)})\")\n",
    "print(\"Nilai: \", nilai_ujian, f\"(type: {type(nilai_ujian)})\")"
   ]
  },
  {
   "cell_type": "markdown",
   "id": "4af01eac",
   "metadata": {},
   "source": [
    "### No. 3"
   ]
  },
  {
   "cell_type": "code",
   "execution_count": 23,
   "id": "f30b255e",
   "metadata": {},
   "outputs": [
    {
     "name": "stdout",
     "output_type": "stream",
     "text": [
      "Mahasiswa: Sarah (NIM: 12345678)\n",
      "Nilai Ujian: 81\n",
      "Kategori Nilai: B (Baik)\n"
     ]
    }
   ],
   "source": [
    "print(f\"Mahasiswa: {nama_mahasiswa} (NIM: {nim_mahasiswa})\")\n",
    "print(f\"Nilai Ujian: {nilai_ujian}\")\n",
    "\n",
    "if nilai_ujian >= 85:\n",
    "    print(\"Kategori Nilai: A (Sangat Baik)\")\n",
    "elif nilai_ujian >= 75:\n",
    "    print(\"Kategori Nilai: B (Baik)\")\n",
    "elif nilai_ujian >= 60:\n",
    "    print(\"Kategori Nilai: C (Cukup)\")\n",
    "elif nilai_ujian >= 40:\n",
    "    print(\"Kategori Nilai: D (Kurang)\")\n",
    "else:\n",
    "    print(\"Kategori Nilai: E (Sangat Kurang)\")"
   ]
  },
  {
   "cell_type": "markdown",
   "id": "8fd46b66",
   "metadata": {},
   "source": [
    "## Versi jika menginput secara manual\n",
    "### No. 1"
   ]
  },
  {
   "cell_type": "code",
   "execution_count": 30,
   "id": "cdf64a4c",
   "metadata": {},
   "outputs": [
    {
     "name": "stdout",
     "output_type": "stream",
     "text": [
      "Masukkan nama mahasiswa:  Sarah\n",
      "Masukkan NIM:  12345678\n",
      "Masukkan nilai ujian (0-100):  81\n"
     ]
    }
   ],
   "source": [
    "nama_mahasiswa = input(\"Masukkan nama mahasiswa: \")\n",
    "nim_mahasiswa = int(input(\"Masukkan NIM: \"))\n",
    "nilai_ujian = int(input(\"Masukkan nilai ujian (0-100): \"))\n",
    "\n",
    "print(\"Masukkan nama mahasiswa: \", nama_mahasiswa)\n",
    "print(\"Masukkan NIM: \", nim_mahasiswa)\n",
    "print(\"Masukkan nilai ujian (0-100): \", nilai_ujian)"
   ]
  },
  {
   "cell_type": "markdown",
   "id": "1a770c1d",
   "metadata": {},
   "source": [
    "### No. 2"
   ]
  },
  {
   "cell_type": "code",
   "execution_count": 31,
   "id": "69215a5c",
   "metadata": {},
   "outputs": [
    {
     "name": "stdout",
     "output_type": "stream",
     "text": [
      "Nama:  Sarah (type: <class 'str'>)\n",
      "NIM:  12345678 (type: <class 'int'>)\n",
      "Nilai:  81 (type: <class 'int'>)\n"
     ]
    }
   ],
   "source": [
    "print(\"Nama: \", nama_mahasiswa, f\"(type: {type(nama_mahasiswa)})\")\n",
    "print(\"NIM: \", nim_mahasiswa, f\"(type: {type(nim_mahasiswa)})\")\n",
    "print(\"Nilai: \", nilai_ujian, f\"(type: {type(nilai_ujian)})\")"
   ]
  },
  {
   "cell_type": "markdown",
   "id": "1532aa74",
   "metadata": {},
   "source": [
    "### No. 3"
   ]
  },
  {
   "cell_type": "code",
   "execution_count": 32,
   "id": "e75cff49",
   "metadata": {},
   "outputs": [
    {
     "name": "stdout",
     "output_type": "stream",
     "text": [
      "Mahasiswa: Sarah (NIM: 12345678)\n",
      "Nilai Ujian: 81\n",
      "Kategori Nilai: B (Baik)\n"
     ]
    }
   ],
   "source": [
    "print(f\"Mahasiswa: {nama_mahasiswa} (NIM: {nim_mahasiswa})\")\n",
    "print(f\"Nilai Ujian: {nilai_ujian}\")\n",
    "\n",
    "if nilai_ujian >= 85:\n",
    "    print(\"Kategori Nilai: A (Sangat Baik)\")\n",
    "elif nilai_ujian >= 75:\n",
    "    print(\"Kategori Nilai: B (Baik)\")\n",
    "elif nilai_ujian >= 60:\n",
    "    print(\"Kategori Nilai: C (Cukup)\")\n",
    "elif nilai_ujian >= 40:\n",
    "    print(\"Kategori Nilai: D (Kurang)\")\n",
    "else:\n",
    "    print(\"Kategori Nilai: E (Sangat Kurang)\")"
   ]
  },
  {
   "cell_type": "code",
   "execution_count": null,
   "id": "f605bd63",
   "metadata": {},
   "outputs": [],
   "source": []
  }
 ],
 "metadata": {
  "kernelspec": {
   "display_name": "base",
   "language": "python",
   "name": "python3"
  },
  "language_info": {
   "codemirror_mode": {
    "name": "ipython",
    "version": 3
   },
   "file_extension": ".py",
   "mimetype": "text/x-python",
   "name": "python",
   "nbconvert_exporter": "python",
   "pygments_lexer": "ipython3",
   "version": "3.13.5"
  }
 },
 "nbformat": 4,
 "nbformat_minor": 5
}
